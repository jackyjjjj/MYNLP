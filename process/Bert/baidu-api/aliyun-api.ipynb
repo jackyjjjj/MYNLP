{
 "cells": [
  {
   "cell_type": "code",
   "execution_count": 60,
   "metadata": {
    "collapsed": true,
    "ExecuteTime": {
     "end_time": "2025-03-17T11:16:40.355886700Z",
     "start_time": "2025-03-17T11:16:40.347587200Z"
    }
   },
   "outputs": [],
   "source": [
    "import json\n",
    "from tqdm import tqdm\n",
    "import pandas as pd\n",
    "\n",
    "from aliyunsdkalinlp.request.v20200629.GetSaChGeneralRequest import GetSaChGeneralRequest\n",
    "from aliyunsdkalinlp.request.v20200629 import GetSaChGeneralRequest\n",
    "from aliyunsdkcore.client import AcsClient\n"
   ]
  },
  {
   "cell_type": "code",
   "execution_count": 61,
   "outputs": [],
   "source": [
    "AccessKey_ID = 'LTAI5tLDGdLysuXcon847FkU'\n",
    "AccessKey_Secret = 'o3SdSFDurlJZZaqGOI9YqUNttNEfW3'\n",
    "Region_id = 'cn-hangzhou'\n",
    "\n",
    "file_path = r'E:\\project\\process\\Bert\\baidu-api\\comments.xlsx'"
   ],
   "metadata": {
    "collapsed": false,
    "ExecuteTime": {
     "end_time": "2025-03-17T11:16:40.505289100Z",
     "start_time": "2025-03-17T11:16:40.354378200Z"
    }
   }
  },
  {
   "cell_type": "code",
   "execution_count": 62,
   "outputs": [
    {
     "name": "stderr",
     "output_type": "stream",
     "text": [
      "Processing comments: 100%|██████████| 20505/20505 [22:34<00:00, 15.14it/s]\n"
     ]
    }
   ],
   "source": [
    "client = AcsClient(AccessKey_ID, AccessKey_Secret, Region_id)\n",
    "df = pd.read_excel(file_path)\n",
    "\n",
    "def analyze_sentiment(text):\n",
    "    request = GetSaChGeneralRequest.GetSaChGeneralRequest()\n",
    "    request.set_ServiceCode('alinlp')\n",
    "    request.set_Text(text)\n",
    "    response = client.do_action_with_exception(request)\n",
    "    result = json.loads(response)\n",
    "    if 'Data' in result:\n",
    "        data = json.loads(result['Data'])\n",
    "        return data.get('sentiment')\n",
    "    else:\n",
    "        return None\n",
    "\n",
    "\n",
    "tqdm.pandas(desc=\"Processing comments\")\n",
    "df['sentiment-ali'] = df['comment'].progress_apply(lambda x: analyze_sentiment(x) if pd.notna(x) else None)\n",
    "\n",
    "# 将结果保存到新的Excel文件\n",
    "df.to_excel('comments-ali.xlsx', index=False)"
   ],
   "metadata": {
    "collapsed": false,
    "ExecuteTime": {
     "end_time": "2025-03-17T11:39:20.597840400Z",
     "start_time": "2025-03-17T11:16:40.357880300Z"
    }
   }
  }
 ],
 "metadata": {
  "kernelspec": {
   "display_name": "Python 3",
   "language": "python",
   "name": "python3"
  },
  "language_info": {
   "codemirror_mode": {
    "name": "ipython",
    "version": 2
   },
   "file_extension": ".py",
   "mimetype": "text/x-python",
   "name": "python",
   "nbconvert_exporter": "python",
   "pygments_lexer": "ipython2",
   "version": "2.7.6"
  }
 },
 "nbformat": 4,
 "nbformat_minor": 0
}
